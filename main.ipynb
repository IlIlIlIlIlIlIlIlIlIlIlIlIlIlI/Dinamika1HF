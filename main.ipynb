{
 "cells": [
  {
   "metadata": {},
   "cell_type": "markdown",
   "source": [
    "<h1>Dinamika 1. Házi feladat</h1>\n",
    "<img src=\"abra.png\" alt=\"Dinosaur\" />"
   ],
   "id": "8f7747aabd979123"
  },
  {
   "cell_type": "code",
   "id": "initial_id",
   "metadata": {
    "collapsed": true,
    "ExecuteTime": {
     "end_time": "2025-10-08T17:07:27.154306Z",
     "start_time": "2025-10-08T17:07:27.141941Z"
    }
   },
   "source": [
    "import math\n",
    "import sympy as sp\n",
    "import numpy as np\n",
    "from sympy import cos, sin, rad, sqrt, atan, tan, asin, deg\n",
    "from sympy import symbols, Eq, solve, Matrix, latex\n",
    "import matplotlib.pyplot as plt\n",
    "from numpy import linspace\n",
    "from IPython.display import Math\n",
    "  \n",
    "phi, l1, l2, l3, omega1z = symbols('phi, l1, l2, l3, omega1z')\n",
    "adatok = [(phi,65),(l1,0.07),(l2,0.19),(l3,0.04),(omega1z,5)]\n",
    "#adatok = [(phi,65),(l1,0.07),(l2,0.19),(l3,0.04),(omega1z,4)]"
   ],
   "outputs": [],
   "execution_count": 311
  },
  {
   "metadata": {},
   "cell_type": "markdown",
   "source": "<h2>2. Feladat</h2>",
   "id": "eb302eb677037dc3"
  },
  {
   "metadata": {
    "ExecuteTime": {
     "end_time": "2025-10-08T17:07:27.306913Z",
     "start_time": "2025-10-08T17:07:27.165859Z"
    }
   },
   "cell_type": "code",
   "source": [
    "omega1 = Matrix([0, 0, omega1z.subs(adatok)])\n",
    "vA = Matrix([0, 0, 0])\n",
    "vD = Matrix([0, 0, 0])\n",
    "\n",
    "rABx, rABy, rABz = symbols('rABx, rABy, rABz')\n",
    "\n",
    "Elso = Eq(sin(rad(phi)), rABy/l1)\n",
    "Masodik = Eq(cos(rad(phi)), rABx/l1)\n",
    "Harmadik = Eq(0, rABz)\n",
    "\n",
    "\n",
    "megoldas = solve((Elso, Masodik, Harmadik),(rABx, rABy, rABz))\n",
    "\n",
    "rABx = megoldas[rABx].subs(adatok).evalf()\n",
    "rABy = megoldas[rABy].subs(adatok).evalf()\n",
    "rABz = megoldas[rABz].subs(adatok).evalf()\n",
    "\n",
    "rAB = Matrix([rABx, rABy, rABz])\n",
    "\n",
    "rBCx, rBCy, rBCz, alfa = symbols('rBCx, rBCy, rBCz, alfa')\n",
    "\n",
    "Elso = Eq(sin(rad(60))*(2*sin(rad(60))*l3), rBCy)\n",
    "Masodik = Eq(cos(alfa), rBCx/l2)\n",
    "Harmadik = Eq(0, rBCz)\n",
    "Negyedik = Eq(sin(alfa), rBCy/l2)\n",
    "\n",
    "megoldas = solve((Elso, Masodik, Harmadik, Negyedik),(rBCx, rBCy, rBCz, alfa))[0]\n",
    "\n",
    "rBCx = -megoldas[0].subs(adatok).evalf()\n",
    "rBCy = megoldas[1].subs(adatok).evalf()\n",
    "rBCz = megoldas[2].subs(adatok).evalf()\n",
    "alfa = megoldas[3].subs(adatok).evalf()\n",
    "\n",
    "rBC = Matrix([rBCx, rBCy, rBCz])\n",
    "rBS2 = rBC/2\n",
    "vB = vA + omega1.cross(rAB)\n",
    "rDC = Matrix([-rBCy/tan(rad(60)), rBCy, 0])\n",
    "rCS2 = -rBS2\n",
    "\n",
    "Math(r\"v_{A} = \" + latex(vA) + r\"v_{D} = \" + latex(vD) + r\", \\quad r_{AB} = \" + latex(rAB) + r\", \\quad r_{BC} = \" + latex(rBC) + r\", \\quad r_{BS_2} = \" + latex(rBS2) + r\", \\quad v_{B} = \" + latex(vB))"
   ],
   "id": "f9fd516f373785db",
   "outputs": [
    {
     "data": {
      "text/plain": [
       "<IPython.core.display.Math object>"
      ],
      "text/latex": "$\\displaystyle v_{A} = \\left[\\begin{matrix}0\\\\0\\\\0\\end{matrix}\\right]v_{D} = \\left[\\begin{matrix}0\\\\0\\\\0\\end{matrix}\\right], \\quad r_{AB} = \\left[\\begin{matrix}0.029583278321849\\\\0.0634415450925655\\\\0\\end{matrix}\\right], \\quad r_{BC} = \\left[\\begin{matrix}0.180277563773199\\\\0.06\\\\0\\end{matrix}\\right], \\quad r_{BS_2} = \\left[\\begin{matrix}0.0901387818865997\\\\0.03\\\\0\\end{matrix}\\right], \\quad v_{B} = \\left[\\begin{matrix}-0.317207725462827\\\\0.147916391609245\\\\0\\end{matrix}\\right]$"
     },
     "execution_count": 312,
     "metadata": {},
     "output_type": "execute_result"
    }
   ],
   "execution_count": 312
  },
  {
   "metadata": {
    "ExecuteTime": {
     "end_time": "2025-10-08T17:07:27.429666Z",
     "start_time": "2025-10-08T17:07:27.333920Z"
    }
   },
   "cell_type": "code",
   "source": [
    "omega2z, omega3z = symbols('omega2z, omega3z')\n",
    "\n",
    "omega2 = Matrix([0, 0, omega2z])\n",
    "omega3 = Matrix([0, 0, omega3z])\n",
    "\n",
    "vS2 = vB + omega2.cross(rBS2)\n",
    "vC = vD + omega3.cross(rDC)\n",
    "vS2jobb = vC + omega2.cross(rCS2)\n",
    "\n",
    "Elso = Eq(vS2[0], vS2jobb[0])\n",
    "Masodik = Eq(vS2[1], vS2jobb[1])\n",
    "\n",
    "megoldas = solve((Elso, Masodik),(omega2z, omega3z))\n",
    "\n",
    "omega2 = omega2.subs(megoldas)\n",
    "omega3 = omega3.subs(megoldas)\n",
    "\n",
    "vS2 = (vB + omega2.cross(rBS2)).evalf()\n",
    "vC = (vD + omega3.cross(rDC)).evalf()\n",
    "absvS2 = vS2.norm()\n",
    "absvC = vC.norm()\n",
    "\n",
    "Math(r\"\\omega_2 = \" + latex(omega2) + r\"\\quad \\omega_3 = \" + latex(omega3) + r\"\\quad v_{S_2} = \" + latex(vS2) + r\"\\quad v_C = \" + latex(vC) + r\"\\quad |v_{S_2}| = \" + latex(absvS2) + r\"\\quad |v_C| = \" + latex(absvC))"
   ],
   "id": "9d22eb76107bc04b",
   "outputs": [
    {
     "data": {
      "text/plain": [
       "<IPython.core.display.Math object>"
      ],
      "text/latex": "$\\displaystyle \\omega_2 = \\left[\\begin{matrix}0\\\\0\\\\-1.54038034966738\\end{matrix}\\right]\\quad \\omega_3 = \\left[\\begin{matrix}0\\\\0\\\\3.74641507471307\\end{matrix}\\right]\\quad v_{S_2} = \\left[\\begin{matrix}-0.270996314972806\\\\0.0090683832481725\\\\0\\end{matrix}\\right]\\quad v_C = \\left[\\begin{matrix}-0.224784904482784\\\\-0.1297796251129\\\\0\\end{matrix}\\right]\\quad |v_{S_2}| = 0.271148000736823\\quad |v_C| = 0.259559250225799$"
     },
     "execution_count": 313,
     "metadata": {},
     "output_type": "execute_result"
    }
   ],
   "execution_count": 313
  },
  {
   "metadata": {},
   "cell_type": "markdown",
   "source": "<h2>3. feladat</h2>",
   "id": "1c9263fecad12d73"
  },
  {
   "metadata": {
    "ExecuteTime": {
     "end_time": "2025-10-08T17:07:27.560928Z",
     "start_time": "2025-10-08T17:07:27.461373Z"
    }
   },
   "cell_type": "code",
   "source": [
    "rBP2 = omega2.cross(vB)/(omega2.norm()**2)\n",
    "\n",
    "Math(r\"r_{BP_2} = \" + latex(rBP2))"
   ],
   "id": "e44420d072634754",
   "outputs": [
    {
     "name": "stdout",
     "output_type": "stream",
     "text": [
      "{x0: 0.0960258884379985, y0: 0.205928182303366}\n"
     ]
    },
    {
     "data": {
      "text/plain": [
       "<IPython.core.display.Math object>"
      ],
      "text/latex": "$\\displaystyle r_{BP_2} = \\left[\\begin{matrix}0.0960258884379983\\\\0.205928182303366\\\\0\\end{matrix}\\right]$"
     },
     "execution_count": 314,
     "metadata": {},
     "output_type": "execute_result"
    }
   ],
   "execution_count": 314
  },
  {
   "metadata": {},
   "cell_type": "markdown",
   "source": "<h2>4. feladat</h2>",
   "id": "f68bde7d2ed9062f"
  },
  {
   "metadata": {
    "ExecuteTime": {
     "end_time": "2025-10-08T17:07:27.760257Z",
     "start_time": "2025-10-08T17:07:27.579326Z"
    }
   },
   "cell_type": "code",
   "source": [
    "epsilon2z, epsilon3z = symbols('epsilon2z, epsilon3z')\n",
    "\n",
    "aA = Matrix([0, 0, 0])\n",
    "epsilon1 = Matrix([0, 0, 0])\n",
    "epsilon2 = Matrix([0, 0, epsilon2z])\n",
    "epsilon3 = Matrix([0, 0, epsilon3z])\n",
    "rDS3 = Matrix([0, l3.subs(adatok), 0])\n",
    "\n",
    "aB = aA + epsilon1.cross(rAB) - omega1.norm()**2 * rAB\n",
    "aS2 = aB + epsilon2.cross(rBS2) - omega2.norm()**2 * rBS2\n",
    "\n",
    "vS3 = vD + omega3.cross(rDS3)\n",
    "aS3y = - vS3.norm()**2/(4*l3).subs(adatok)\n",
    "aDy = aS3y + omega3.norm()**2*l3.subs(adatok)\n",
    "\n",
    "aD = Matrix([0, aDy, 0])\n",
    "\n",
    "aC = aD + epsilon3.cross(rDC) - omega3.norm()**2 * rDC\n",
    "aS2jobb = aC + epsilon2.cross(rCS2) - omega2.norm()**2 * rCS2\n",
    "\n",
    "Elso = Eq(aS2[0], aS2jobb[0])\n",
    "Masodik = Eq(aS2[1], aS2jobb[1])\n",
    "\n",
    "megoldas = solve((Elso, Masodik),(epsilon2z, epsilon3z))\n",
    "\n",
    "epsilon2 = epsilon2.subs(megoldas)\n",
    "epsilon3 = epsilon3.subs(megoldas)\n",
    "\n",
    "aS2 = (aB + epsilon2.cross(rBS2) - omega2.norm()**2 * rBS2).subs(adatok)\n",
    "absaS2 = aS2.norm()\n",
    "aC = (aD + epsilon3.cross(rDC) - omega3.norm()**2 * rDC).subs(adatok).evalf()\n",
    "absaC = aC.norm()\n",
    "\n",
    "print(aB)\n",
    "print(aC)\n",
    "\n",
    "Math(r\"\\varepsilon_2 = \" + latex(epsilon2) + r\"\\quad \\varepsilon_3 = \" + latex(epsilon3) + r\"\\quad a_{S_2} = \" + latex(aS2) + r\"\\quad a_C = \" + latex(aC) + r\"\\quad |a_{S_2}| = \" + latex(absaS2))"
   ],
   "id": "46fe13591f06205",
   "outputs": [
    {
     "name": "stdout",
     "output_type": "stream",
     "text": [
      "Matrix([[-0.739581958046224], [-1.58603862731414], [0]])\n",
      "Matrix([[-1.26579344208698], [-1.43258748012925], [0]])\n"
     ]
    },
    {
     "data": {
      "text/plain": [
       "<IPython.core.display.Math object>"
      ],
      "text/latex": "$\\displaystyle \\varepsilon_2 = \\left[\\begin{matrix}0\\\\0\\\\1.64089994501773\\end{matrix}\\right]\\quad \\varepsilon_3 = \\left[\\begin{matrix}0\\\\0\\\\29.200029766676\\end{matrix}\\right]\\quad a_{S_2} = \\left[\\begin{matrix}-1.0026877000666\\\\-1.50931305372169\\\\0\\end{matrix}\\right]\\quad a_C = \\left[\\begin{matrix}-1.26579344208698\\\\-1.43258748012925\\\\0\\end{matrix}\\right]\\quad |a_{S_2}| = 1.81201780289255$"
     },
     "execution_count": 315,
     "metadata": {},
     "output_type": "execute_result"
    }
   ],
   "execution_count": 315
  },
  {
   "metadata": {},
   "cell_type": "markdown",
   "source": "<h2>6. Feladat</h2>",
   "id": "343e25293d4e042a"
  },
  {
   "metadata": {
    "ExecuteTime": {
     "end_time": "2025-10-08T17:50:13.860211Z",
     "start_time": "2025-10-08T17:50:13.844236Z"
    }
   },
   "cell_type": "code",
   "source": [
    "alfa2 = atan(epsilon2[2]/(omega2.norm()**2))\n",
    "rS2G2 = (epsilon2.cross(aS2) + omega2.norm()**2*aS2)/(epsilon2.norm()**2 + omega2.norm()**4)\n",
    "\n",
    "Math(r\"\\alpha = \" + latex(alfa2*180/math.pi) + r\"\\quad r_{S_2G_2} = \" + latex(rS2G2))"
   ],
   "id": "b5008f7f3b5a6cc",
   "outputs": [
    {
     "name": "stdout",
     "output_type": "stream",
     "text": [
      "Matrix([[0.0117130238833201], [-0.627996870783866], [0]])\n"
     ]
    },
    {
     "data": {
      "text/plain": [
       "<IPython.core.display.Math object>"
      ],
      "text/latex": "$\\displaystyle \\alpha = 34.6659551666522\\quad r_{S_2G_2} = \\left[\\begin{matrix}0.0117130238833201\\\\-0.627996870783866\\\\0\\end{matrix}\\right]$"
     },
     "execution_count": 322,
     "metadata": {},
     "output_type": "execute_result"
    }
   ],
   "execution_count": 322
  },
  {
   "metadata": {},
   "cell_type": "markdown",
   "source": "<h2>7. Feladat</h2>",
   "id": "8f54849591b0ecd5"
  },
  {
   "metadata": {
    "ExecuteTime": {
     "end_time": "2025-10-08T17:07:27.923772Z",
     "start_time": "2025-10-08T17:07:27.892672Z"
    }
   },
   "cell_type": "code",
   "source": [
    "eS2t = vS2/vS2.norm()\n",
    "\n",
    "aS2t = aS2.dot(eS2t)*eS2t\n",
    "aS2n = aS2 - aS2t\n",
    "absaS2t = aS2t.norm()\n",
    "absaS2n = aS2n.norm()\n",
    "\n",
    "print(aS2t)\n",
    "print(aS2n)\n",
    "\n",
    "Math(r\"a_{S_2t} = \" + latex(aS2t) + r\"\\quad a_{S_2n} = \" + latex(aS2n) + r\"\\quad |a_{S_2t}| = \" + latex(absaS2t) + r\"\\quad |a_{S_2n}| = \" + latex(absaS2n))"
   ],
   "id": "43bf1b0a88aa5a60",
   "outputs": [
    {
     "name": "stdout",
     "output_type": "stream",
     "text": [
      "Matrix([[-0.951116328768637], [0.0318273234960200], [0]])\n",
      "Matrix([[-0.0515713712979666], [-1.54114037721771], [0]])\n"
     ]
    },
    {
     "data": {
      "text/plain": [
       "<IPython.core.display.Math object>"
      ],
      "text/latex": "$\\displaystyle a_{S_2t} = \\left[\\begin{matrix}-0.951116328768637\\\\0.03182732349602\\\\0\\end{matrix}\\right]\\quad a_{S_2n} = \\left[\\begin{matrix}-0.0515713712979666\\\\-1.54114037721771\\\\0\\end{matrix}\\right]\\quad |a_{S_2t}| = 0.951648700609238\\quad |a_{S_2n}| = 1.54200300538887$"
     },
     "execution_count": 317,
     "metadata": {},
     "output_type": "execute_result"
    }
   ],
   "execution_count": 317
  },
  {
   "metadata": {},
   "cell_type": "markdown",
   "source": "<h2>8. Feladat</h2>",
   "id": "3d5c6ddb1b1c4422"
  },
  {
   "metadata": {
    "ExecuteTime": {
     "end_time": "2025-10-08T17:07:27.977054Z",
     "start_time": "2025-10-08T17:07:27.962194Z"
    }
   },
   "cell_type": "code",
   "source": [
    "roS2 = vS2.norm()**2/aS2n.norm()\n",
    "\n",
    "Math(r\"\\rho_{S_2} = \" + latex(roS2))"
   ],
   "id": "eb6dc8acd2f20b5c",
   "outputs": [
    {
     "data": {
      "text/plain": [
       "<IPython.core.display.Math object>"
      ],
      "text/latex": "$\\displaystyle \\rho_{S_2} = 0.0476790499413035$"
     },
     "execution_count": 318,
     "metadata": {},
     "output_type": "execute_result"
    }
   ],
   "execution_count": 318
  }
 ],
 "metadata": {
  "kernelspec": {
   "display_name": "Python 3",
   "language": "python",
   "name": "python3"
  },
  "language_info": {
   "codemirror_mode": {
    "name": "ipython",
    "version": 2
   },
   "file_extension": ".py",
   "mimetype": "text/x-python",
   "name": "python",
   "nbconvert_exporter": "python",
   "pygments_lexer": "ipython2",
   "version": "2.7.6"
  }
 },
 "nbformat": 4,
 "nbformat_minor": 5
}
